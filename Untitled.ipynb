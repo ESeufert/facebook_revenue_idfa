{
 "cells": [
  {
   "cell_type": "code",
   "execution_count": 3,
   "metadata": {},
   "outputs": [
    {
     "name": "stderr",
     "output_type": "stream",
     "text": [
      "INFO:fbprophet:Disabling weekly seasonality. Run prophet with weekly_seasonality=True to override this.\n",
      "INFO:fbprophet:Disabling daily seasonality. Run prophet with daily_seasonality=True to override this.\n"
     ]
    },
    {
     "name": "stdout",
     "output_type": "stream",
     "text": [
      "          ds        trend    yhat_lower    yhat_upper   trend_lower  \\\n",
      "0 2020-12-31  70467010117  2.251279e+10  2.346270e+10  7.045487e+10   \n",
      "1 2021-03-31  71838274575  2.005374e+10  2.103474e+10  7.178112e+10   \n",
      "2 2021-06-30  73224775304  1.996539e+10  2.097931e+10  7.310711e+10   \n",
      "3 2021-09-30  74626512306  2.214976e+10  2.324146e+10  7.444282e+10   \n",
      "4 2021-12-31  76028249307  2.510041e+10  2.625165e+10  7.577264e+10   \n",
      "5 2022-03-31  77399513765  2.083769e+10  2.200037e+10  7.708388e+10   \n",
      "\n",
      "    trend_upper  additive_terms  additive_terms_lower  additive_terms_upper  \\\n",
      "0  7.048198e+10   -4.746849e+10         -4.746849e+10         -4.746849e+10   \n",
      "1  7.189546e+10   -5.130179e+10         -5.130179e+10         -5.130179e+10   \n",
      "2  7.334318e+10   -5.275727e+10         -5.275727e+10         -5.275727e+10   \n",
      "3  7.482256e+10   -5.191742e+10         -5.191742e+10         -5.191742e+10   \n",
      "4  7.631056e+10   -5.035998e+10         -5.035998e+10         -5.035998e+10   \n",
      "5  7.776751e+10   -5.597853e+10         -5.597853e+10         -5.597853e+10   \n",
      "\n",
      "      quarterly  quarterly_lower  quarterly_upper        yearly  yearly_lower  \\\n",
      "0  1.692777e+11     1.692777e+11     1.692777e+11 -2.167462e+11 -2.167462e+11   \n",
      "1  1.633946e+11     1.633946e+11     1.633946e+11 -2.146964e+11 -2.146964e+11   \n",
      "2  1.608272e+11     1.608272e+11     1.608272e+11 -2.135845e+11 -2.135845e+11   \n",
      "3  1.633946e+11     1.633946e+11     1.633946e+11 -2.153120e+11 -2.153120e+11   \n",
      "4  1.656257e+11     1.656257e+11     1.656257e+11 -2.159857e+11 -2.159857e+11   \n",
      "5  1.578812e+11     1.578812e+11     1.578812e+11 -2.138597e+11 -2.138597e+11   \n",
      "\n",
      "   yearly_upper  multiplicative_terms  multiplicative_terms_lower  \\\n",
      "0 -2.167462e+11                   0.0                         0.0   \n",
      "1 -2.146964e+11                   0.0                         0.0   \n",
      "2 -2.135845e+11                   0.0                         0.0   \n",
      "3 -2.153120e+11                   0.0                         0.0   \n",
      "4 -2.159857e+11                   0.0                         0.0   \n",
      "5 -2.138597e+11                   0.0                         0.0   \n",
      "\n",
      "   multiplicative_terms_upper          yhat  \n",
      "0                         0.0  2.299852e+10  \n",
      "1                         0.0  2.053648e+10  \n",
      "2                         0.0  2.046750e+10  \n",
      "3                         0.0  2.270909e+10  \n",
      "4                         0.0  2.566827e+10  \n",
      "5                         0.0  2.142099e+10  \n"
     ]
    },
    {
     "data": {
      "image/png": "[encoded data removed]",
      "text/plain": [
       "<Figure size 720x432 with 1 Axes>"
      ]
     },
     "metadata": {},
     "output_type": "display_data"
    }
   ],
   "source": [
    "import pandas as pd\n",
    "from fbprophet import Prophet\n",
    "import re\n",
    "\n",
    "powers = { 'B': 10 ** 9, 'M': 10 ** 6 }\n",
    "qs = [ '03-31', '06-30', '09-30', '12-31' ]\n",
    "\n",
    "def f( num_str ):\n",
    "    match = re.search(r\"([0-9\\.]+)\\s?(M|B)\", num_str).groups()\n",
    "    if match is not None:\n",
    "        quantity = match[ 0 ]\n",
    "        magnitude = match[ 1 ]\n",
    "        return_val = float( quantity ) * powers[ magnitude ]\n",
    "        return return_val\n",
    "    \n",
    "def build_forecast_list( fb_rev, end_date ):\n",
    "    #get remainder of this year\n",
    "    start_year = fb_rev.iloc[ 0,: ][ 'ds' ].year\n",
    "    to_add = [ str( start_year ) + '-' + q for q in qs[ int( fb_rev.iloc[ 0,: ][ 'ds' ].month / 3 ): ]]\n",
    "    start_year += 1\n",
    "\n",
    "    #add 1 year of quarters\n",
    "    \n",
    "    this_q = None\n",
    "    while this_q != end_date:\n",
    "        for q in qs:\n",
    "            this_q = str( start_year ) + '-' + str( q )\n",
    "            to_add.append( this_q )\n",
    "            if q == '12-31':\n",
    "                start_year += 1\n",
    "            if this_q == end_date:\n",
    "                return to_add\n",
    "\n",
    "fb_rev = pd.read_csv( 'Facebook Revenue - Sheet1.csv', header=None )\n",
    "fb_rev.columns = [ 'a', 'LastDayOfQuarter', 'Revenue' ] #a is a placeholder, ds is quarter name, y is revenue\n",
    "fb_rev = fb_rev.drop( columns=['a'] )\n",
    "\n",
    "fb_rev[ 'LastDayOfQuarter' ] = pd.to_datetime( fb_rev['LastDayOfQuarter'], format='%m-%d-%Y' )\n",
    "\n",
    "fb_rev[ 'Revenue' ] = fb_rev[ 'Revenue' ].apply( lambda x: f( x ) ).astype('int64')\n",
    "\n",
    "fb_rev.columns = [ 'ds', 'y' ]\n",
    "\n",
    "to_add = build_forecast_list( fb_rev, end_date = '2022-03-31' )\n",
    "\n",
    "forecast_quarters = pd.DataFrame( to_add, columns=[ 'ds' ], index=[ z for z in range( len( fb_rev ), len( fb_rev ) + len( to_add ), 1 ) ] )\n",
    "\n",
    "#Prophet\n",
    "m = Prophet()\n",
    "m.add_seasonality( name='quarterly', period=91.5, fourier_order=5 )\n",
    "m.fit( fb_rev )\n",
    "\n",
    "forecast = m.predict( forecast_quarters )\n",
    "forecast[ [ 'ds', 'yhat', 'yhat_lower', 'yhat_upper' ] ].tail()\n",
    "\n",
    "forecast[ 'trend' ] = forecast[ 'trend' ].astype( 'int64' )\n",
    "\n",
    "fig1 = m.plot(forecast)\n",
    "\n",
    "print( forecast )"
   ]
  },
  {
   "cell_type": "code",
   "execution_count": null,
   "metadata": {},
   "outputs": [],
   "source": [
    "\n",
    "\n",
    "print( to_add )\n",
    "    \n",
    "df = pd.DataFrame( to_add, columns=[ 'ds' ], index=[ z for z in range( len( fb_rev ), len( fb_rev ) + len( to_add ), 1 ) ] )\n",
    "\n",
    "df"
   ]
  },
  {
   "cell_type": "code",
   "execution_count": null,
   "metadata": {},
   "outputs": [],
   "source": [
    "fb_rev"
   ]
  },
  {
   "cell_type": "code",
   "execution_count": null,
   "metadata": {},
   "outputs": [],
   "source": [
    "z = [ a for a in range( len( fb_rev ), len( fb_rev ) + len( to_add ), 1 ) ]\n",
    "z"
   ]
  },
  {
   "cell_type": "code",
   "execution_count": null,
   "metadata": {},
   "outputs": [],
   "source": []
  }
 ],
 "metadata": {
  "kernelspec": {
   "display_name": "Python 3",
   "language": "python",
   "name": "python3"
  },
  "language_info": {
   "codemirror_mode": {
    "name": "ipython",
    "version": 3
   },
   "file_extension": ".py",
   "mimetype": "text/x-python",
   "name": "python",
   "nbconvert_exporter": "python",
   "pygments_lexer": "ipython3",
   "version": "3.8.5"
  }
 },
 "nbformat": 4,
 "nbformat_minor": 4
}
