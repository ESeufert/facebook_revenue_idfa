{
 "cells": [
  {
   "cell_type": "code",
   "execution_count": 2,
   "metadata": {},
   "outputs": [
    {
     "name": "stdout",
     "output_type": "stream",
     "text": [
      "['2020-12-31', '2021-03-31', '2021-06-30', '2021-09-30', '2021-12-31', '2022-03-31']\n"
     ]
    },
    {
     "name": "stderr",
     "output_type": "stream",
     "text": [
      "INFO:fbprophet:Disabling weekly seasonality. Run prophet with weekly_seasonality=True to override this.\n",
      "INFO:fbprophet:Disabling daily seasonality. Run prophet with daily_seasonality=True to override this.\n"
     ]
    },
    {
     "name": "stdout",
     "output_type": "stream",
     "text": [
      "          ds        trend    yhat_lower    yhat_upper   trend_lower  \\\n",
      "0 2020-12-31  35322776573  2.262603e+10  2.355587e+10  3.530911e+10   \n",
      "1 2021-03-31  36365678953  1.992592e+10  2.086520e+10  3.631180e+10   \n",
      "2 2021-06-30  37420169138  1.863242e+10  1.960973e+10  3.731642e+10   \n",
      "3 2021-09-30  38486247127  2.203137e+10  2.305858e+10  3.832337e+10   \n",
      "4 2021-12-31  39552325116  2.530750e+10  2.639300e+10  3.932657e+10   \n",
      "5 2022-03-31  40595227496  1.676701e+10  1.792178e+10  4.029814e+10   \n",
      "\n",
      "    trend_upper  additive_terms  additive_terms_lower  additive_terms_upper  \\\n",
      "0  3.533652e+10   -1.224523e+10         -1.224523e+10         -1.224523e+10   \n",
      "1  3.642392e+10   -1.597695e+10         -1.597695e+10         -1.597695e+10   \n",
      "2  3.753065e+10   -1.832307e+10         -1.832307e+10         -1.832307e+10   \n",
      "3  3.866612e+10   -1.592872e+10         -1.592872e+10         -1.592872e+10   \n",
      "4  3.980013e+10   -1.371435e+10         -1.371435e+10         -1.371435e+10   \n",
      "5  4.091737e+10   -2.326329e+10         -2.326329e+10         -2.326329e+10   \n",
      "\n",
      "      quarterly  quarterly_lower  quarterly_upper        yearly  yearly_lower  \\\n",
      "0  1.848920e+11     1.848920e+11     1.848920e+11 -1.971372e+11 -1.971372e+11   \n",
      "1  1.815372e+11     1.815372e+11     1.815372e+11 -1.975142e+11 -1.975142e+11   \n",
      "2  1.786601e+11     1.786601e+11     1.786601e+11 -1.969832e+11 -1.969832e+11   \n",
      "3  1.815372e+11     1.815372e+11     1.815372e+11 -1.974659e+11 -1.974659e+11   \n",
      "4  1.832024e+11     1.832024e+11     1.832024e+11 -1.969167e+11 -1.969167e+11   \n",
      "5  1.738729e+11     1.738729e+11     1.738729e+11 -1.971362e+11 -1.971362e+11   \n",
      "\n",
      "   yearly_upper  multiplicative_terms  multiplicative_terms_lower  \\\n",
      "0 -1.971372e+11                   0.0                         0.0   \n",
      "1 -1.975142e+11                   0.0                         0.0   \n",
      "2 -1.969832e+11                   0.0                         0.0   \n",
      "3 -1.974659e+11                   0.0                         0.0   \n",
      "4 -1.969167e+11                   0.0                         0.0   \n",
      "5 -1.971362e+11                   0.0                         0.0   \n",
      "\n",
      "   multiplicative_terms_upper          yhat  \n",
      "0                         0.0  2.307755e+10  \n",
      "1                         0.0  2.038873e+10  \n",
      "2                         0.0  1.909710e+10  \n",
      "3                         0.0  2.255753e+10  \n",
      "4                         0.0  2.583797e+10  \n",
      "5                         0.0  1.733193e+10  \n"
     ]
    },
    {
     "data": {
      "image/png": "[encoded data removed]",
      "text/plain": [
       "<Figure size 720x432 with 1 Axes>"
      ]
     },
     "metadata": {},
     "output_type": "display_data"
    }
   ],
   "source": [
    "import pandas as pd\n",
    "from fbprophet import Prophet\n",
    "import re\n",
    "\n",
    "powers = { 'B': 10 ** 9, 'M': 10 ** 6 }\n",
    "qs = [ '03-31', '06-30', '09-30', '12-31' ]\n",
    "\n",
    "def f( num_str ):\n",
    "    match = re.search(r\"([0-9\\.]+)\\s?(M|B)\", num_str).groups()\n",
    "    if match is not None:\n",
    "        quantity = match[ 0 ]\n",
    "        magnitude = match[ 1 ]\n",
    "        return_val = float( quantity ) * powers[ magnitude ]\n",
    "        return return_val\n",
    "    \n",
    "def build_forecast_list( fb_rev, end_date ):\n",
    "    #get remainder of this year\n",
    "    start_year = fb_rev.iloc[ 0,: ][ 'ds' ].year\n",
    "    to_add = [ str( start_year ) + '-' + q for q in qs[ int( fb_rev.iloc[ 0,: ][ 'ds' ].month / 3 ): ]]\n",
    "    start_year += 1\n",
    "\n",
    "    #add 1 year of quarters\n",
    "    \n",
    "    this_q = None\n",
    "    while this_q != end_date:\n",
    "        for q in qs:\n",
    "            this_q = str( start_year ) + '-' + str( q )\n",
    "            to_add.append( this_q )\n",
    "            if q == '12-31':\n",
    "                start_year += 1\n",
    "            if this_q == end_date:\n",
    "                return to_add\n",
    "\n",
    "fb_rev = pd.read_csv( 'Facebook Revenue - Sheet1.csv', header=None )\n",
    "fb_rev.columns = [ 'a', 'LastDayOfQuarter', 'Revenue' ] #a is a placeholder, ds is quarter name, y is revenue\n",
    "fb_rev = fb_rev.drop( columns=['a'] )\n",
    "\n",
    "fb_rev[ 'LastDayOfQuarter' ] = pd.to_datetime( fb_rev['LastDayOfQuarter'], format='%m-%d-%Y' )\n",
    "\n",
    "fb_rev[ 'Revenue' ] = fb_rev[ 'Revenue' ].apply( lambda x: f( x ) ).astype('int64')\n",
    "\n",
    "fb_rev.columns = [ 'ds', 'y' ]\n",
    "\n",
    "to_add = build_forecast_list( fb_rev, end_date = '2022-03-31' )\n",
    "\n",
    "forecast_quarters = pd.DataFrame( to_add, columns=[ 'ds' ], index=[ z for z in range( len( fb_rev ), len( fb_rev ) + len( to_add ), 1 ) ] )\n",
    "\n",
    "#Prophet\n",
    "m = Prophet()\n",
    "m.add_seasonality( name='quarterly', period=91.5, fourier_order=5 )\n",
    "m.fit( fb_rev )\n",
    "\n",
    "forecast = m.predict( forecast_quarters )\n",
    "forecast[ [ 'ds', 'yhat', 'yhat_lower', 'yhat_upper' ] ].tail()\n",
    "\n",
    "forecast[ 'trend' ] = forecast[ 'trend' ].astype( 'int64' )\n",
    "\n",
    "fig1 = m.plot(forecast)\n",
    "\n",
    "print( forecast )"
   ]
  },
  {
   "cell_type": "code",
   "execution_count": null,
   "metadata": {},
   "outputs": [],
   "source": [
    "\n",
    "\n",
    "print( to_add )\n",
    "    \n",
    "df = pd.DataFrame( to_add, columns=[ 'ds' ], index=[ z for z in range( len( fb_rev ), len( fb_rev ) + len( to_add ), 1 ) ] )\n",
    "\n",
    "df"
   ]
  },
  {
   "cell_type": "code",
   "execution_count": null,
   "metadata": {},
   "outputs": [],
   "source": [
    "fb_rev"
   ]
  },
  {
   "cell_type": "code",
   "execution_count": null,
   "metadata": {},
   "outputs": [],
   "source": [
    "z = [ a for a in range( len( fb_rev ), len( fb_rev ) + len( to_add ), 1 ) ]\n",
    "z"
   ]
  },
  {
   "cell_type": "code",
   "execution_count": null,
   "metadata": {},
   "outputs": [],
   "source": []
  }
 ],
 "metadata": {
  "kernelspec": {
   "display_name": "Python 3",
   "language": "python",
   "name": "python3"
  },
  "language_info": {
   "codemirror_mode": {
    "name": "ipython",
    "version": 3
   },
   "file_extension": ".py",
   "mimetype": "text/x-python",
   "name": "python",
   "nbconvert_exporter": "python",
   "pygments_lexer": "ipython3",
   "version": "3.8.5"
  }
 },
 "nbformat": 4,
 "nbformat_minor": 4
}
